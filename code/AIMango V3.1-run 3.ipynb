{
 "cells": [
  {
   "cell_type": "markdown",
   "metadata": {},
   "source": [
    "# ResNet-152"
   ]
  },
  {
   "cell_type": "markdown",
   "metadata": {},
   "source": [
    "# Hyperparameters\n",
    "\n",
    "#### batch_size = 32\n",
    "#### num_training_epochs = 200\n",
    "#### lr = 0.001\n",
    "#### valid_loss_stable_count = 7\n",
    "\n",
    "#### Make learning rate lr one tenth if the number of epochs in which validation loss doesn't decrease exceeds the paramter of valid_loss_stable_count.\n",
    "\n",
    "#### Test Loss: 0.699610\n",
    "#### Test Accuracy: 73% (146/200)\n",
    "\n"
   ]
  },
  {
   "cell_type": "code",
   "execution_count": 1,
   "metadata": {},
   "outputs": [],
   "source": [
    "import torch\n",
    "import torchvision.models as models\n",
    "import torch.nn as nn\n",
    "import torchvision.datasets\n",
    "import torchvision.transforms as transforms\n",
    "from PIL import ImageFile\n",
    "\n",
    "import numpy as np\n",
    "\n",
    "import torch.optim as optim\n",
    "import time"
   ]
  },
  {
   "cell_type": "code",
   "execution_count": 2,
   "metadata": {},
   "outputs": [],
   "source": [
    "TRAIN_TEST_CSV_PATH = '../C1-P1_Train Dev_fixed/train.csv'\n",
    "TRAIN_CSV_PATH = '../C1-P1_Train Dev_fixed/train_split.csv'\n",
    "VALID_CSV_PATH = '../C1-P1_Train Dev_fixed/dev.csv'\n",
    "\n",
    "ORIGINAL_TRAIN_TEST_DATA_PATH = '../C1-P1_Train Dev_fixed/C1-P1_Train/' \n",
    "ORIGINAL_VALID_DATA_PATH = '../C1-P1_Train Dev_fixed/C1-P1_Dev/' \n",
    "\n",
    "\n",
    "TRAIN_DATA_PATH = '../data/train'\n",
    "VALID_DATA_PATH = '../data/valid'\n",
    "TEST_DATA_PATH = '../data/test'\n",
    "\n",
    "MODEL_WEIGHTS_FILE = '../model_trained_weights/model_weights_v3_1__run_3.pt'\n",
    "\n",
    "image_size = 224"
   ]
  },
  {
   "cell_type": "code",
   "execution_count": 3,
   "metadata": {},
   "outputs": [],
   "source": [
    "# Hyperparameters\n",
    "\n",
    "batch_size = 32\n",
    "lr = 0.001\n",
    "valid_loss_stable_count = 7\n",
    "\n",
    "lr_decay_factor = 0.1\n",
    "lr_lower_bound = 1e-4\n",
    "\n",
    "num_training_epochs = 200\n",
    "num_worker = 4\n",
    "sgd_momentum = 0.9"
   ]
  },
  {
   "cell_type": "code",
   "execution_count": 4,
   "metadata": {},
   "outputs": [],
   "source": [
    "ImageFile.LOAD_TRUNCATED_IMAGES = True\n",
    "\n",
    "\n",
    "transform = transforms.Compose([\n",
    "                                transforms.Resize(224),\n",
    "                                transforms.CenterCrop(224),\n",
    "                                transforms.RandomHorizontalFlip(p=0.5),\n",
    "                                transforms.RandomRotation(degrees=(-15, 15)),\n",
    "                                transforms.RandomAffine(0, shear=10, scale=(0.8,1.2)),\n",
    "                                transforms.ToTensor(),\n",
    "                                transforms.Normalize(\n",
    "                                    mean=(0.485, 0.456, 0.406),\n",
    "                                    std =(0.229, 0.224, 0.225))\n",
    "                               ])\n",
    "transform_plain = transforms.Compose([\n",
    "                            transforms.Resize(224),\n",
    "                            transforms.CenterCrop(224),\n",
    "                            transforms.ToTensor(),\n",
    "                            transforms.Normalize(\n",
    "                                    mean=(0.485, 0.456, 0.406),\n",
    "                                    std =(0.229, 0.224, 0.225))\n",
    "                           ]) \n",
    "\n",
    "loaders_transfer = {}\n",
    "data_transfer = {}\n",
    "\n",
    "data_transfer['train'] = torchvision.datasets.ImageFolder(TRAIN_DATA_PATH, transform=transform)\n",
    "loaders_transfer['train'] = torch.utils.data.DataLoader(data_transfer['train'],\n",
    "                                          batch_size=batch_size,\n",
    "                                          shuffle=True,\n",
    "                                          num_workers=num_worker)\n",
    "\n",
    "data_transfer['valid'] = torchvision.datasets.ImageFolder(VALID_DATA_PATH, transform=transform_plain)\n",
    "loaders_transfer['valid'] = torch.utils.data.DataLoader(data_transfer['valid'],\n",
    "                                          batch_size=batch_size,\n",
    "                                          shuffle=False,\n",
    "                                          num_workers=num_worker)\n",
    "data_transfer['test'] = torchvision.datasets.ImageFolder(TEST_DATA_PATH, transform=transform_plain)\n",
    "loaders_transfer['test'] = torch.utils.data.DataLoader(data_transfer['test'],\n",
    "                                          batch_size=1,\n",
    "                                          shuffle=False,\n",
    "                                          num_workers=num_worker)"
   ]
  },
  {
   "cell_type": "code",
   "execution_count": 5,
   "metadata": {},
   "outputs": [
    {
     "data": {
      "text/plain": [
       "device(type='cuda', index=0)"
      ]
     },
     "execution_count": 5,
     "metadata": {},
     "output_type": "execute_result"
    }
   ],
   "source": [
    "device = torch.device(\"cuda:0\" if torch.cuda.is_available() else \"cpu\")\n",
    "device"
   ]
  },
  {
   "cell_type": "code",
   "execution_count": 6,
   "metadata": {},
   "outputs": [],
   "source": [
    "import torchvision.models as models\n",
    "import torch.nn as nn\n",
    "\n",
    "model_transfer = models.resnet152(pretrained=True).to(device)\n",
    "    \n",
    "for param in model_transfer.parameters():\n",
    "    param.requires_grad = False   \n",
    "    \n",
    "model_transfer.fc = nn.Sequential(\n",
    "               nn.Linear(2048, 128),\n",
    "               nn.ReLU(inplace=True),\n",
    "               nn.Linear(128, 3)).to(device)\n",
    "## uncomment the following line for continuing trainging only\n",
    "# model_transfer.load_state_dict(torch.load(MODEL_WEIGHTS_FILE, map_location=device))"
   ]
  },
  {
   "cell_type": "code",
   "execution_count": 7,
   "metadata": {},
   "outputs": [],
   "source": [
    "import torch.optim as optim\n",
    "\n",
    "criterion_transfer = nn.CrossEntropyLoss()\n",
    "optimizer_transfer = optim.SGD(model_transfer.fc.parameters(), lr = lr, momentum = 0.9)"
   ]
  },
  {
   "cell_type": "code",
   "execution_count": 8,
   "metadata": {},
   "outputs": [],
   "source": [
    "def get_lr_from_optim(optimizer):\n",
    "    for param_group in optimizer_transfer.param_groups:\n",
    "        return param_group['lr']\n",
    "    \n",
    "def set_lr_to_optim(optimizer, lr):\n",
    "    for param_group in optimizer_transfer.param_groups:\n",
    "        param_group['lr'] = lr"
   ]
  },
  {
   "cell_type": "code",
   "execution_count": 9,
   "metadata": {},
   "outputs": [
    {
     "name": "stdout",
     "output_type": "stream",
     "text": [
      "Epoch: 1 \tTraining Loss: 0.9646 \tValidation Loss: 0.8237 \tValidation Accuracy: 0.667 \ttime: 113.0 \tlr=0.001\n",
      "Validation loss decreased from inf to 0.823699. Model was saved\n",
      "Epoch: 2 \tTraining Loss: 0.7553 \tValidation Loss: 0.7085 \tValidation Accuracy: 0.682 \ttime: 112.1 \tlr=0.001\n",
      "Validation loss decreased from 0.823699 to 0.708481. Model was saved\n",
      "Epoch: 3 \tTraining Loss: 0.7021 \tValidation Loss: 0.6699 \tValidation Accuracy: 0.699 \ttime: 112.1 \tlr=0.001\n",
      "Validation loss decreased from 0.708481 to 0.669854. Model was saved\n",
      "Epoch: 4 \tTraining Loss: 0.6905 \tValidation Loss: 0.6532 \tValidation Accuracy: 0.711 \ttime: 112.1 \tlr=0.001\n",
      "Validation loss decreased from 0.669854 to 0.653150. Model was saved\n",
      "Epoch: 5 \tTraining Loss: 0.6717 \tValidation Loss: 0.6427 \tValidation Accuracy: 0.720 \ttime: 112.2 \tlr=0.001\n",
      "Validation loss decreased from 0.653150 to 0.642705. Model was saved\n",
      "Epoch: 6 \tTraining Loss: 0.6681 \tValidation Loss: 0.6591 \tValidation Accuracy: 0.699 \ttime: 112.2 \tlr=0.001\n",
      "Epoch: 7 \tTraining Loss: 0.6620 \tValidation Loss: 0.6468 \tValidation Accuracy: 0.726 \ttime: 112.1 \tlr=0.001\n",
      "Epoch: 8 \tTraining Loss: 0.6600 \tValidation Loss: 0.6356 \tValidation Accuracy: 0.735 \ttime: 112.2 \tlr=0.001\n",
      "Validation loss decreased from 0.642705 to 0.635612. Model was saved\n",
      "Epoch: 9 \tTraining Loss: 0.6466 \tValidation Loss: 0.6407 \tValidation Accuracy: 0.705 \ttime: 112.1 \tlr=0.001\n",
      "Epoch: 10 \tTraining Loss: 0.6681 \tValidation Loss: 0.6290 \tValidation Accuracy: 0.716 \ttime: 112.0 \tlr=0.001\n",
      "Validation loss decreased from 0.635612 to 0.628969. Model was saved\n",
      "Epoch: 11 \tTraining Loss: 0.6444 \tValidation Loss: 0.6196 \tValidation Accuracy: 0.731 \ttime: 112.3 \tlr=0.001\n",
      "Validation loss decreased from 0.628969 to 0.619632. Model was saved\n",
      "Epoch: 12 \tTraining Loss: 0.6508 \tValidation Loss: 0.6156 \tValidation Accuracy: 0.728 \ttime: 112.2 \tlr=0.001\n",
      "Validation loss decreased from 0.619632 to 0.615633. Model was saved\n",
      "Epoch: 13 \tTraining Loss: 0.6333 \tValidation Loss: 0.6225 \tValidation Accuracy: 0.716 \ttime: 112.2 \tlr=0.001\n",
      "Epoch: 14 \tTraining Loss: 0.6402 \tValidation Loss: 0.6417 \tValidation Accuracy: 0.711 \ttime: 112.1 \tlr=0.001\n",
      "Epoch: 15 \tTraining Loss: 0.6365 \tValidation Loss: 0.6496 \tValidation Accuracy: 0.704 \ttime: 112.1 \tlr=0.001\n",
      "Epoch: 16 \tTraining Loss: 0.6354 \tValidation Loss: 0.6389 \tValidation Accuracy: 0.703 \ttime: 112.1 \tlr=0.001\n",
      "Epoch: 17 \tTraining Loss: 0.6281 \tValidation Loss: 0.6375 \tValidation Accuracy: 0.703 \ttime: 112.1 \tlr=0.001\n",
      "Epoch: 18 \tTraining Loss: 0.6208 \tValidation Loss: 0.6231 \tValidation Accuracy: 0.714 \ttime: 111.9 \tlr=0.001\n",
      "Epoch: 19 \tTraining Loss: 0.6166 \tValidation Loss: 0.6786 \tValidation Accuracy: 0.696 \ttime: 112.3 \tlr=0.001\n",
      "Total training time: 2147.93 seconds\n"
     ]
    }
   ],
   "source": [
    "import numpy as np\n",
    "import time\n",
    "import copy\n",
    "\n",
    "\n",
    "# train the model\n",
    "def train(n_epochs, loaders, model, optimizer, criterion, save_path):\n",
    "\n",
    "    # initialize tracker for minimum validation loss\n",
    "    valid_loss_min = np.Inf \n",
    "    # Valid Loss Stable counter\n",
    "    valid_loss_stable_counter = 0\n",
    "    \n",
    "    for epoch in range(1, n_epochs+1):\n",
    "        # initialize variables to monitor training and validation loss\n",
    "        train_loss = 0.0\n",
    "        valid_loss = 0.0\n",
    "        \n",
    "        \n",
    "        start = time.time()\n",
    "        \n",
    "        lr = get_lr_from_optim(optimizer)\n",
    "        \n",
    "        # train the model\n",
    "        model.train()\n",
    "        for batch_idx, (data, target) in enumerate(loaders_transfer['train']):\n",
    "            data, target = data.to(device), target.to(device)\n",
    "            optimizer.zero_grad()\n",
    "            output = model(data)\n",
    "            loss = criterion(output, target)\n",
    "            loss.backward()\n",
    "            optimizer.step()\n",
    "            train_loss += loss.item()*data.size(0)\n",
    "            \n",
    "        # validate the model\n",
    "\n",
    "        model.eval()\n",
    "        valid_corrects = 0\n",
    "        for batch_idx, (data, target) in enumerate(loaders_transfer['valid']):\n",
    "\n",
    "            data, target = data.to(device), target.to(device)\n",
    "            output = model(data)\n",
    "            _, preds = torch.max(output, 1)\n",
    "            \n",
    "            loss = criterion(output, target)\n",
    "            valid_loss += loss.item()*data.size(0)\n",
    "    \n",
    "            valid_corrects += torch.sum(preds == target.data)\n",
    "        \n",
    "        train_loss = train_loss/len(loaders_transfer['train'].dataset)\n",
    "        valid_loss = valid_loss/len(loaders_transfer['valid'].dataset)\n",
    "        \n",
    "        epoch_acc = valid_corrects.double() / len(loaders_transfer['valid'].dataset)\n",
    "        # print training/validation statistics \n",
    "        print('Epoch: {} \\tTraining Loss: {:.4f} \\tValidation Loss: {:.4f} \\tValidation Accuracy: {:.3f} \\ttime: {:.1f} \\tlr={}'.format(\n",
    "            epoch, \n",
    "            train_loss,\n",
    "            valid_loss,\n",
    "            epoch_acc,\n",
    "            time.time() - start,\n",
    "            lr\n",
    "            ))\n",
    "        \n",
    "        if valid_loss < valid_loss_min:\n",
    "            print('Validation loss decreased from {:.6f} to {:.6f}. Model was saved'.format(\n",
    "                valid_loss_min,\n",
    "                valid_loss\n",
    "            ))\n",
    "\n",
    "            best_model_wts = copy.deepcopy(model.state_dict())\n",
    "            torch.save(best_model_wts, save_path)\n",
    "\n",
    "            valid_loss_min = valid_loss\n",
    "            \n",
    "            valid_loss_stable_counter = 0\n",
    "        else:\n",
    "            valid_loss_stable_counter += 1\n",
    "            if valid_loss_stable_counter >= valid_loss_stable_count:\n",
    "                valid_loss_stable_counter = 0\n",
    "                lr = get_lr_from_optim(optimizer)\n",
    "                lr = lr * lr_decay_factor\n",
    "                if lr <= lr_lower_bound:\n",
    "                    lr = lr_lower_bound\n",
    "                    return model\n",
    "    \n",
    "    # return trained model\n",
    "    return model\n",
    "\n",
    "train_start = time.time()\n",
    "model_transfer = train(num_training_epochs,\n",
    "                       loaders_transfer,\n",
    "                       model_transfer,optimizer_transfer,\n",
    "                       criterion_transfer,\n",
    "                       MODEL_WEIGHTS_FILE)\n",
    "print(\"Total training time: {:.2f} seconds\".format(time.time() - train_start))"
   ]
  },
  {
   "cell_type": "code",
   "execution_count": 10,
   "metadata": {},
   "outputs": [
    {
     "data": {
      "text/plain": [
       "IncompatibleKeys(missing_keys=[], unexpected_keys=[])"
      ]
     },
     "execution_count": 10,
     "metadata": {},
     "output_type": "execute_result"
    }
   ],
   "source": [
    "# load the model that got the best validation accuracy (uncomment the line below)\n",
    "model_transfer.load_state_dict(torch.load(MODEL_WEIGHTS_FILE))"
   ]
  },
  {
   "cell_type": "markdown",
   "metadata": {},
   "source": [
    "# The following module can be run separately if trained weights are available"
   ]
  },
  {
   "cell_type": "code",
   "execution_count": 11,
   "metadata": {},
   "outputs": [],
   "source": [
    "# MODEL_WEIGHTS_FILE = 'model_weights_v3_1__run_2.pt'"
   ]
  },
  {
   "cell_type": "code",
   "execution_count": 12,
   "metadata": {},
   "outputs": [],
   "source": [
    "# import torch\n",
    "# import torchvision.models as models\n",
    "# import torch.nn as nn\n",
    "# import torchvision.datasets\n",
    "# import torchvision.transforms as transforms\n",
    "# from PIL import ImageFile\n",
    "\n",
    "# ImageFile.LOAD_TRUNCATED_IMAGES = True\n",
    "# device = torch.device(\"cuda:0\" if torch.cuda.is_available() else \"cpu\")\n",
    "# model_transfer = models.resnet152(pretrained=True).to(device)\n",
    "    \n",
    "# model_transfer.fc = nn.Sequential(\n",
    "#                nn.Linear(2048, 128),\n",
    "#                nn.ReLU(inplace=True),\n",
    "#                nn.Linear(128, 3)).to(device)\n",
    "# model_transfer.load_state_dict(torch.load(MODEL_WEIGHTS_FILE, map_location=device))"
   ]
  },
  {
   "cell_type": "code",
   "execution_count": 13,
   "metadata": {},
   "outputs": [],
   "source": [
    "# TEST_DATA_PATH = '../data/test'\n",
    "# transform_plain = transforms.Compose([\n",
    "#                             transforms.Resize(224),\n",
    "#                             transforms.CenterCrop(224),\n",
    "#                             transforms.ToTensor(),\n",
    "#                             transforms.Normalize(\n",
    "#                                     mean=(0.485, 0.456, 0.406),\n",
    "#                                     std =(0.229, 0.224, 0.225))\n",
    "#                            ]) \n",
    "\n",
    "# if not 'data_transfer' in locals():\n",
    "#     print(\"create empty data_transfer\")\n",
    "#     data_transfer = {}\n",
    "# if not 'loaders_transfer' in locals():\n",
    "#     print(\"create empty loaders_transfer\")\n",
    "#     loaders_transfer = {}\n",
    "# data_transfer['test'] = torchvision.datasets.ImageFolder(TEST_DATA_PATH, transform=transform_plain)\n",
    "# loaders_transfer['test'] = torch.utils.data.DataLoader(data_transfer['test'],\n",
    "#                                           batch_size=1,\n",
    "#                                           shuffle=False,\n",
    "#                                           num_workers=4)\n",
    "\n",
    "# import torch.optim as optim\n",
    "\n",
    "# criterion_transfer = nn.CrossEntropyLoss()"
   ]
  },
  {
   "cell_type": "code",
   "execution_count": 14,
   "metadata": {},
   "outputs": [
    {
     "name": "stdout",
     "output_type": "stream",
     "text": [
      "Test Loss: 0.699610\n",
      "\n",
      "\n",
      "Test Accuracy: 73% (146/200)\n",
      "Total testing time: 10.45 seconds\n"
     ]
    }
   ],
   "source": [
    "import numpy as np\n",
    "import time\n",
    "\n",
    "def test(loaders, model, criterion):\n",
    "\n",
    "    # monitor test loss and accuracy\n",
    "    test_loss = 0.\n",
    "    correct = 0.\n",
    "    total = 0.\n",
    "\n",
    "    model.eval()\n",
    "\n",
    "    for batch_idx, (data, target) in enumerate(loaders['test']):\n",
    "        data, target = data.to(device), target.to(device)\n",
    "        output = model(data)\n",
    "        loss = criterion(output, target)\n",
    "        # accumulate test loss \n",
    "        test_loss += loss.item()*data.size(0)\n",
    "        \n",
    "        # convert output probabilities to predicted class\n",
    "        preds = output.data.max(1, keepdim=True)[1]\n",
    "    \n",
    "        # compare predictions to true label\n",
    "        if torch.cuda.is_available():\n",
    "            correct += torch.sum(preds == target.data)\n",
    "        else:\n",
    "            correct += np.sum(np.squeeze(preds.eq(target.data.view_as(preds))).cpu().numpy())\n",
    "        total += data.size(0)\n",
    "        \n",
    "    test_loss = test_loss/len(loaders_transfer['test'].dataset)      \n",
    "    print('Test Loss: {:.6f}\\n'.format(test_loss))\n",
    "\n",
    "    print('\\nTest Accuracy: %2d%% (%2d/%2d)' % (\n",
    "        100. * correct / total, correct, total))\n",
    "\n",
    "# call test function   \n",
    "test_start = time.time()\n",
    "test(loaders_transfer, model_transfer, criterion_transfer)\n",
    "print(\"Total testing time: {:.2f} seconds\".format(time.time() - test_start))"
   ]
  },
  {
   "cell_type": "code",
   "execution_count": null,
   "metadata": {},
   "outputs": [],
   "source": []
  }
 ],
 "metadata": {
  "kernelspec": {
   "display_name": "Python 3",
   "language": "python",
   "name": "python3"
  },
  "language_info": {
   "codemirror_mode": {
    "name": "ipython",
    "version": 3
   },
   "file_extension": ".py",
   "mimetype": "text/x-python",
   "name": "python",
   "nbconvert_exporter": "python",
   "pygments_lexer": "ipython3",
   "version": "3.7.3"
  }
 },
 "nbformat": 4,
 "nbformat_minor": 4
}
