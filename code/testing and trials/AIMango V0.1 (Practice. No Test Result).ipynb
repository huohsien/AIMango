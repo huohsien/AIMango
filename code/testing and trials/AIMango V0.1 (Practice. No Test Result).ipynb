{
 "cells": [
  {
   "cell_type": "code",
   "execution_count": 1,
   "metadata": {},
   "outputs": [],
   "source": [
    "CSV_PATH = '../C1-P1_Train Dev_fixed/train.csv'\n",
    "ORIGINAL_TRAIN_DATA_PATH = '../C1-P1_Train Dev_fixed/C1-P1_Train/' \n",
    "PROCESSED_TRAIN_DATA_PATH = '../data/train'"
   ]
  },
  {
   "cell_type": "code",
   "execution_count": null,
   "metadata": {},
   "outputs": [],
   "source": [
    "# import csv\n",
    "\n",
    "# image_files = []\n",
    "# labels = []\n",
    "# with open(CSV_PATH) as csv_file:\n",
    "#     csv_reader = csv.reader(csv_file, delimiter=',')\n",
    "#     line_count = 0\n",
    "#     for row in csv_reader:\n",
    "#         image_files.append(row[0])\n",
    "#         labels.append(row[1])\n",
    "# #         print(f'\\t{row[0]} , {row[1]} .')\n",
    "#         line_count += 1\n",
    "# #     print(f'Processed {line_count} lines.')"
   ]
  },
  {
   "cell_type": "code",
   "execution_count": 2,
   "metadata": {},
   "outputs": [],
   "source": [
    "import csv\n",
    "import os\n",
    "from shutil import copyfile\n",
    "\n",
    "count_A = 0\n",
    "count_B = 0\n",
    "count_C = 0\n",
    "\n",
    "with open(CSV_PATH) as csv_file:\n",
    "\n",
    "    csv_reader = csv.reader(csv_file, delimiter=',')\n",
    "\n",
    "    line_count = 0\n",
    "    for row in csv_reader:\n",
    "\n",
    "        if line_count == 0:\n",
    "            line_count += 1\n",
    "            continue  #header\n",
    "\n",
    "        src_path = os.path.join(ORIGINAL_TRAIN_DATA_PATH, row[0])\n",
    "        dest_path = os.path.join(PROCESSED_TRAIN_DATA_PATH, row[1], row[0])\n",
    "#         print(\"src={} dest ={}\".format(src_path, dest_path))\n",
    "        if not os.path.isfile(dest_path):\n",
    "            copyfile(src_path, dest_path)\n",
    "#         else:\n",
    "#             print(\"File \\'{}\\' exists. Skip the copy.\".format(dest_path))\n",
    "#         if row[1] == 'A':\n",
    "#             count_A += 1\n",
    "#         elif row[1] == 'B':\n",
    "#             count_B += 1\n",
    "#         elif row[1] == 'C':\n",
    "#             count_C += 1\n",
    "        \n",
    "        line_count += 1\n"
   ]
  },
  {
   "cell_type": "code",
   "execution_count": null,
   "metadata": {},
   "outputs": [],
   "source": [
    "# count_A = 0\n",
    "# count_B = 0\n",
    "# count_C = 0\n",
    "\n",
    "# for idx, label in enumerate(labels):\n",
    "#     if idx == 0:\n",
    "#         continue  #header\n",
    "#     if label == 'A':\n",
    "#         count_A += 1\n",
    "#     elif label == 'B':\n",
    "#         count_B += 1\n",
    "#     elif label == 'C':\n",
    "#         count_C += 1\n",
    "\n",
    "# assert count_A + count_B + count_C == (len(labels) - 1)\n",
    "# # print(\"Count of A:{} Count of B:{} Count of C:{} Total:{}\".format(count_A, count_B, count_C, len(labels) - 1))"
   ]
  }
 ],
 "metadata": {
  "kernelspec": {
   "display_name": "Python 3",
   "language": "python",
   "name": "python3"
  },
  "language_info": {
   "codemirror_mode": {
    "name": "ipython",
    "version": 3
   },
   "file_extension": ".py",
   "mimetype": "text/x-python",
   "name": "python",
   "nbconvert_exporter": "python",
   "pygments_lexer": "ipython3",
   "version": "3.7.2"
  }
 },
 "nbformat": 4,
 "nbformat_minor": 2
}
