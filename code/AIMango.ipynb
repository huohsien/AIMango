{
 "cells": [
  {
   "cell_type": "code",
   "execution_count": 1,
   "metadata": {},
   "outputs": [],
   "source": [
    "CSV_PATH = '../AIMango_sample/label.csv'\n",
    "SOURCE_DATA_PATH = '../AIMango_sample/sample_image/' \n",
    "DEST_DATA_PATH = '../data/'"
   ]
  },
  {
   "cell_type": "code",
   "execution_count": 4,
   "metadata": {},
   "outputs": [],
   "source": [
    "import csv\n",
    "\n",
    "image_files = []\n",
    "labels = []\n",
    "with open(CSV_PATH) as csv_file:\n",
    "    csv_reader = csv.reader(csv_file, delimiter=',')\n",
    "    line_count = 0\n",
    "    for row in csv_reader:\n",
    "        image_files.append(row[0])\n",
    "        labels.append(row[1])\n",
    "#         print(f'\\t{row[0]} , {row[1]} .')\n",
    "        line_count += 1\n",
    "#     print(f'Processed {line_count} lines.')"
   ]
  },
  {
   "cell_type": "code",
   "execution_count": 12,
   "metadata": {},
   "outputs": [],
   "source": [
    "count_A = 0\n",
    "count_B = 0\n",
    "count_C = 0\n",
    "\n",
    "for label in labels:\n",
    "    if label.endswith('A'):\n",
    "        count_A += 1\n",
    "for label in labels:\n",
    "    if label.endswith('B'):\n",
    "        count_B += 1\n",
    "for label in labels:\n",
    "    if label.endswith('C'):\n",
    "        count_C += 1\n",
    "assert count_A + count_B + count_C == len(labels)"
   ]
  },
  {
   "cell_type": "code",
   "execution_count": 11,
   "metadata": {},
   "outputs": [
    {
     "data": {
      "text/plain": [
       "(16, 39, 39)"
      ]
     },
     "execution_count": 11,
     "metadata": {},
     "output_type": "execute_result"
    }
   ],
   "source": [
    "(count_A, count_B, count_C)"
   ]
  },
  {
   "cell_type": "code",
   "execution_count": null,
   "metadata": {},
   "outputs": [],
   "source": []
  }
 ],
 "metadata": {
  "kernelspec": {
   "display_name": "Python 3",
   "language": "python",
   "name": "python3"
  },
  "language_info": {
   "codemirror_mode": {
    "name": "ipython",
    "version": 3
   },
   "file_extension": ".py",
   "mimetype": "text/x-python",
   "name": "python",
   "nbconvert_exporter": "python",
   "pygments_lexer": "ipython3",
   "version": "3.6.8"
  }
 },
 "nbformat": 4,
 "nbformat_minor": 2
}
