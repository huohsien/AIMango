{
 "cells": [
  {
   "cell_type": "markdown",
   "metadata": {},
   "source": [
    "# Hyperparameters\n",
    "\n",
    "#### batch_size = 128\n",
    "#### start_epoch = 0\n",
    "#### lr = 0.001\n",
    "#### valid_loss_stable_count = 15\n",
    "\n",
    "#### Make learning rate lr one tenth if the number of epochs in which validation loss doesn't decrease exceeds the paramter of valid_loss_stable_count.\n"
   ]
  },
  {
   "cell_type": "code",
   "execution_count": 1,
   "metadata": {},
   "outputs": [],
   "source": [
    "import torch\n",
    "import torchvision.models as models\n",
    "import torch.nn as nn\n",
    "import torchvision.datasets\n",
    "import torchvision.transforms as transforms\n",
    "from PIL import ImageFile\n",
    "\n",
    "import numpy as np\n",
    "\n",
    "import torch.optim as optim\n",
    "import time"
   ]
  },
  {
   "cell_type": "code",
   "execution_count": 2,
   "metadata": {},
   "outputs": [],
   "source": [
    "TRAIN_TEST_CSV_PATH = '../C1-P1_Train Dev_fixed/train.csv'\n",
    "TRAIN_CSV_PATH = '../C1-P1_Train Dev_fixed/train_split.csv'\n",
    "VALID_CSV_PATH = '../C1-P1_Train Dev_fixed/dev.csv'\n",
    "\n",
    "ORIGINAL_TRAIN_TEST_DATA_PATH = '../C1-P1_Train Dev_fixed/C1-P1_Train/' \n",
    "ORIGINAL_VALID_DATA_PATH = '../C1-P1_Train Dev_fixed/C1-P1_Dev/' \n",
    "\n",
    "\n",
    "TRAIN_DATA_PATH = '../data/train'\n",
    "VALID_DATA_PATH = '../data/valid'\n",
    "TEST_DATA_PATH = '../data/test'\n",
    "\n",
    "MODEL_WEIGHTS_FILE = 'model_weights_v3_1__run_1.pt'\n",
    "\n",
    "image_size = 224"
   ]
  },
  {
   "cell_type": "code",
   "execution_count": 3,
   "metadata": {},
   "outputs": [],
   "source": [
    "# Hyperparameters\n",
    "\n",
    "batch_size = 128\n",
    "lr = 0.001\n",
    "valid_loss_stable_count = 15\n",
    "num_training_epochs = 150\n",
    "num_worker = 4\n",
    "sgd_momentum = 0.9"
   ]
  },
  {
   "cell_type": "code",
   "execution_count": 4,
   "metadata": {},
   "outputs": [],
   "source": [
    "ImageFile.LOAD_TRUNCATED_IMAGES = True\n",
    "\n",
    "\n",
    "transform = transforms.Compose([\n",
    "                                transforms.Resize(224),\n",
    "                                transforms.CenterCrop(224),\n",
    "                                transforms.RandomHorizontalFlip(p=0.5),\n",
    "                                transforms.RandomRotation(degrees=(-15, 15)),\n",
    "                                transforms.RandomAffine(0, shear=10, scale=(0.8,1.2)),\n",
    "                                transforms.ToTensor(),\n",
    "                                transforms.Normalize(\n",
    "                                    mean=(0.485, 0.456, 0.406),\n",
    "                                    std =(0.229, 0.224, 0.225))\n",
    "                               ])\n",
    "transform_plain = transforms.Compose([\n",
    "                            transforms.Resize(224),\n",
    "                            transforms.CenterCrop(224),\n",
    "                            transforms.ToTensor(),\n",
    "                            transforms.Normalize(\n",
    "                                    mean=(0.485, 0.456, 0.406),\n",
    "                                    std =(0.229, 0.224, 0.225))\n",
    "                           ]) \n",
    "\n",
    "loaders_transfer = {}\n",
    "data_transfer = {}\n",
    "\n",
    "data_transfer['train'] = torchvision.datasets.ImageFolder(TRAIN_DATA_PATH, transform=transform)\n",
    "loaders_transfer['train'] = torch.utils.data.DataLoader(data_transfer['train'],\n",
    "                                          batch_size=batch_size,\n",
    "                                          shuffle=True,\n",
    "                                          num_workers=num_worker)\n",
    "\n",
    "data_transfer['valid'] = torchvision.datasets.ImageFolder(VALID_DATA_PATH, transform=transform_plain)\n",
    "loaders_transfer['valid'] = torch.utils.data.DataLoader(data_transfer['valid'],\n",
    "                                          batch_size=batch_size,\n",
    "                                          shuffle=False,\n",
    "                                          num_workers=num_worker)\n",
    "data_transfer['test'] = torchvision.datasets.ImageFolder(TEST_DATA_PATH, transform=transform_plain)\n",
    "loaders_transfer['test'] = torch.utils.data.DataLoader(data_transfer['test'],\n",
    "                                          batch_size=batch_size,\n",
    "                                          shuffle=False,\n",
    "                                          num_workers=num_worker)"
   ]
  },
  {
   "cell_type": "code",
   "execution_count": 5,
   "metadata": {},
   "outputs": [
    {
     "data": {
      "text/plain": [
       "device(type='cuda', index=0)"
      ]
     },
     "execution_count": 5,
     "metadata": {},
     "output_type": "execute_result"
    }
   ],
   "source": [
    "device = torch.device(\"cuda:0\" if torch.cuda.is_available() else \"cpu\")\n",
    "device"
   ]
  },
  {
   "cell_type": "code",
   "execution_count": 6,
   "metadata": {},
   "outputs": [],
   "source": [
    "import torchvision.models as models\n",
    "import torch.nn as nn\n",
    "\n",
    "model_transfer = models.resnet152(pretrained=True).to(device)\n",
    "    \n",
    "for param in model_transfer.parameters():\n",
    "    param.requires_grad = False   \n",
    "    \n",
    "model_transfer.fc = nn.Sequential(\n",
    "               nn.Linear(2048, 128),\n",
    "               nn.ReLU(inplace=True),\n",
    "               nn.Linear(128, 3)).to(device)"
   ]
  },
  {
   "cell_type": "code",
   "execution_count": 7,
   "metadata": {},
   "outputs": [],
   "source": [
    "import torch.optim as optim\n",
    "\n",
    "criterion_transfer = nn.CrossEntropyLoss()\n",
    "optimizer_transfer = [optim.SGD(model_transfer.fc.parameters(), lr = lr, momentum = 0.9),\n",
    "                      optim.SGD(model_transfer.fc.parameters(), lr = lr * 0.1, momentum = 0.9)]"
   ]
  },
  {
   "cell_type": "code",
   "execution_count": null,
   "metadata": {},
   "outputs": [
    {
     "name": "stdout",
     "output_type": "stream",
     "text": [
      "Epoch: 1 \tTraining Loss: 1.076977 \tValidation Loss: 1.044678 \tValidation Accuracy: 0.4500 \ttime: 81.5\n",
      "Validation loss decreased from inf to 1.044678. Model was saved\n",
      "Epoch: 2 \tTraining Loss: 1.005127 \tValidation Loss: 0.966928 \tValidation Accuracy: 0.5775 \ttime: 81.1\n",
      "Validation loss decreased from 1.044678 to 0.966928. Model was saved\n",
      "Epoch: 3 \tTraining Loss: 0.925283 \tValidation Loss: 0.886552 \tValidation Accuracy: 0.6737 \ttime: 80.7\n",
      "Validation loss decreased from 0.966928 to 0.886552. Model was saved\n",
      "Epoch: 4 \tTraining Loss: 0.847536 \tValidation Loss: 0.818161 \tValidation Accuracy: 0.6863 \ttime: 80.9\n",
      "Validation loss decreased from 0.886552 to 0.818161. Model was saved\n",
      "Epoch: 5 \tTraining Loss: 0.785136 \tValidation Loss: 0.766918 \tValidation Accuracy: 0.6887 \ttime: 80.3\n",
      "Validation loss decreased from 0.818161 to 0.766918. Model was saved\n",
      "Epoch: 6 \tTraining Loss: 0.749512 \tValidation Loss: 0.735451 \tValidation Accuracy: 0.6963 \ttime: 80.5\n",
      "Validation loss decreased from 0.766918 to 0.735451. Model was saved\n",
      "Epoch: 7 \tTraining Loss: 0.726405 \tValidation Loss: 0.717740 \tValidation Accuracy: 0.6863 \ttime: 80.5\n",
      "Validation loss decreased from 0.735451 to 0.717740. Model was saved\n",
      "Epoch: 8 \tTraining Loss: 0.707105 \tValidation Loss: 0.689245 \tValidation Accuracy: 0.6987 \ttime: 81.1\n",
      "Validation loss decreased from 0.717740 to 0.689245. Model was saved\n",
      "Epoch: 9 \tTraining Loss: 0.689271 \tValidation Loss: 0.677808 \tValidation Accuracy: 0.7063 \ttime: 80.3\n",
      "Validation loss decreased from 0.689245 to 0.677808. Model was saved\n",
      "Epoch: 10 \tTraining Loss: 0.682298 \tValidation Loss: 0.683436 \tValidation Accuracy: 0.7000 \ttime: 80.7\n",
      "Epoch: 11 \tTraining Loss: 0.667005 \tValidation Loss: 0.668617 \tValidation Accuracy: 0.7075 \ttime: 80.0\n",
      "Validation loss decreased from 0.677808 to 0.668617. Model was saved\n",
      "Epoch: 12 \tTraining Loss: 0.671308 \tValidation Loss: 0.669854 \tValidation Accuracy: 0.7000 \ttime: 81.6\n",
      "Epoch: 13 \tTraining Loss: 0.665780 \tValidation Loss: 0.670013 \tValidation Accuracy: 0.7013 \ttime: 80.5\n",
      "Epoch: 14 \tTraining Loss: 0.668288 \tValidation Loss: 0.670551 \tValidation Accuracy: 0.7000 \ttime: 80.9\n",
      "Epoch: 15 \tTraining Loss: 0.663050 \tValidation Loss: 0.667293 \tValidation Accuracy: 0.7063 \ttime: 81.9\n",
      "Validation loss decreased from 0.668617 to 0.667293. Model was saved\n",
      "Epoch: 16 \tTraining Loss: 0.657515 \tValidation Loss: 0.667471 \tValidation Accuracy: 0.7025 \ttime: 81.2\n",
      "Epoch: 17 \tTraining Loss: 0.662116 \tValidation Loss: 0.666706 \tValidation Accuracy: 0.7037 \ttime: 80.3\n",
      "Validation loss decreased from 0.667293 to 0.666706. Model was saved\n",
      "Epoch: 18 \tTraining Loss: 0.658951 \tValidation Loss: 0.665517 \tValidation Accuracy: 0.7087 \ttime: 81.2\n",
      "Validation loss decreased from 0.666706 to 0.665517. Model was saved\n",
      "Epoch: 19 \tTraining Loss: 0.664448 \tValidation Loss: 0.663742 \tValidation Accuracy: 0.7050 \ttime: 80.6\n",
      "Validation loss decreased from 0.665517 to 0.663742. Model was saved\n",
      "Epoch: 20 \tTraining Loss: 0.663440 \tValidation Loss: 0.664244 \tValidation Accuracy: 0.7050 \ttime: 80.5\n",
      "Epoch: 21 \tTraining Loss: 0.659971 \tValidation Loss: 0.662700 \tValidation Accuracy: 0.7000 \ttime: 82.2\n",
      "Validation loss decreased from 0.663742 to 0.662700. Model was saved\n",
      "Epoch: 22 \tTraining Loss: 0.663400 \tValidation Loss: 0.663451 \tValidation Accuracy: 0.7013 \ttime: 81.4\n",
      "Epoch: 23 \tTraining Loss: 0.664564 \tValidation Loss: 0.663418 \tValidation Accuracy: 0.7025 \ttime: 81.4\n",
      "Epoch: 24 \tTraining Loss: 0.654014 \tValidation Loss: 0.662712 \tValidation Accuracy: 0.7063 \ttime: 81.3\n",
      "Epoch: 27 \tTraining Loss: 0.653271 \tValidation Loss: 0.660366 \tValidation Accuracy: 0.7037 \ttime: 80.9\n",
      "Validation loss decreased from 0.660965 to 0.660366. Model was saved\n"
     ]
    }
   ],
   "source": [
    "import numpy as np\n",
    "import time\n",
    "import copy\n",
    "\n",
    "\n",
    "# train the model\n",
    "def train(n_epochs, loaders, model, optimizers, criterion, save_path):\n",
    "\n",
    "    # initialize tracker for minimum validation loss\n",
    "    valid_loss_min = np.Inf \n",
    "    # Valid Loss Stable counter\n",
    "    valid_loss_stable_counter = 0\n",
    "    #optimizer index\n",
    "    optim_idx = 0\n",
    "    \n",
    "    for epoch in range(1, n_epochs+1):\n",
    "        # initialize variables to monitor training and validation loss\n",
    "        train_loss = 0.0\n",
    "        valid_loss = 0.0\n",
    "        \n",
    "        optimizer = optimizers[optim_idx]\n",
    "        \n",
    "        start = time.time()\n",
    "        \n",
    "        # train the model\n",
    "        model.train()\n",
    "        for batch_idx, (data, target) in enumerate(loaders_transfer['train']):\n",
    "            data, target = data.to(device), target.to(device)\n",
    "            optimizer.zero_grad()\n",
    "            output = model(data)\n",
    "            loss = criterion(output, target)\n",
    "            loss.backward()\n",
    "            optimizer.step()\n",
    "            train_loss += loss.item()*data.size(0)\n",
    "            \n",
    "        # validate the model\n",
    "\n",
    "        model.eval()\n",
    "        valid_corrects = 0\n",
    "        for batch_idx, (data, target) in enumerate(loaders_transfer['valid']):\n",
    "\n",
    "            data, target = data.to(device), target.to(device)\n",
    "            output = model(data)\n",
    "            _, preds = torch.max(output, 1)\n",
    "            \n",
    "            loss = criterion(output, target)\n",
    "            valid_loss += loss.item()*data.size(0)\n",
    "    \n",
    "            valid_corrects += torch.sum(preds == target.data)\n",
    "        \n",
    "        train_loss = train_loss/len(loaders_transfer['train'].dataset)\n",
    "        valid_loss = valid_loss/len(loaders_transfer['valid'].dataset)\n",
    "        \n",
    "        epoch_acc = valid_corrects.double() / len(loaders_transfer['valid'].dataset)\n",
    "        # print training/validation statistics \n",
    "        print('Epoch: {} \\tTraining Loss: {:.6f} \\tValidation Loss: {:.6f} \\tValidation Accuracy: {:.4f} \\ttime: {:.1f}'.format(\n",
    "            epoch, \n",
    "            train_loss,\n",
    "            valid_loss,\n",
    "            epoch_acc,\n",
    "            time.time() - start\n",
    "            ))\n",
    "        \n",
    "        if valid_loss < valid_loss_min:\n",
    "            print('Validation loss decreased from {:.6f} to {:.6f}. Model was saved'.format(\n",
    "                valid_loss_min,\n",
    "                valid_loss\n",
    "            ))\n",
    "\n",
    "            best_model_wts = copy.deepcopy(model.state_dict())\n",
    "            torch.save(best_model_wts, save_path)\n",
    "\n",
    "\n",
    "            valid_loss_min = valid_loss\n",
    "            \n",
    "            valid_loss_stable_counter = 0\n",
    "        else:\n",
    "            valid_loss_stable_counter += 1\n",
    "            optim_idx = 1\n",
    "    \n",
    "    # return trained model\n",
    "    return model\n",
    "\n",
    "train_start = time.time()\n",
    "model_transfer = train(num_training_epochs,\n",
    "                       loaders_transfer,\n",
    "                       model_transfer,optimizer_transfer,\n",
    "                       criterion_transfer,\n",
    "                       MODEL_WEIGHTS_FILE)\n",
    "print(\"Total training time: {:.2f} seconds\".format(time.time() - train_start))"
   ]
  },
  {
   "cell_type": "markdown",
   "metadata": {},
   "source": [
    "# The following module can be run separately if trained weights are available"
   ]
  },
  {
   "cell_type": "code",
   "execution_count": 2,
   "metadata": {},
   "outputs": [],
   "source": [
    "MODEL_WEIGHTS_FILE = 'model_weights_v3_1__run_1.pt'"
   ]
  },
  {
   "cell_type": "code",
   "execution_count": 3,
   "metadata": {},
   "outputs": [
    {
     "data": {
      "text/plain": [
       "IncompatibleKeys(missing_keys=[], unexpected_keys=[])"
      ]
     },
     "execution_count": 3,
     "metadata": {},
     "output_type": "execute_result"
    }
   ],
   "source": [
    "import torch\n",
    "import torchvision.models as models\n",
    "import torch.nn as nn\n",
    "import torchvision.datasets\n",
    "import torchvision.transforms as transforms\n",
    "from PIL import ImageFile\n",
    "\n",
    "ImageFile.LOAD_TRUNCATED_IMAGES = True\n",
    "device = torch.device(\"cuda:0\" if torch.cuda.is_available() else \"cpu\")\n",
    "model_transfer = models.resnet152(pretrained=True).to(device)\n",
    "    \n",
    "model_transfer.fc = nn.Sequential(\n",
    "               nn.Linear(2048, 128),\n",
    "               nn.ReLU(inplace=True),\n",
    "               nn.Linear(128, 3)).to(device)\n",
    "model_transfer.load_state_dict(torch.load(MODEL_WEIGHTS_FILE, map_location=device))"
   ]
  },
  {
   "cell_type": "code",
   "execution_count": 4,
   "metadata": {},
   "outputs": [
    {
     "name": "stdout",
     "output_type": "stream",
     "text": [
      "create empty data_transfer\n",
      "create empty loaders_transfer\n"
     ]
    }
   ],
   "source": [
    "TEST_DATA_PATH = '../data/test'\n",
    "transform_plain = transforms.Compose([\n",
    "                            transforms.Resize(224),\n",
    "                            transforms.CenterCrop(224),\n",
    "                            transforms.ToTensor(),\n",
    "                            transforms.Normalize(\n",
    "                                    mean=(0.485, 0.456, 0.406),\n",
    "                                    std =(0.229, 0.224, 0.225))\n",
    "                           ]) \n",
    "\n",
    "if not 'data_transfer' in locals():\n",
    "    print(\"create empty data_transfer\")\n",
    "    data_transfer = {}\n",
    "if not 'loaders_transfer' in locals():\n",
    "    print(\"create empty loaders_transfer\")\n",
    "    loaders_transfer = {}\n",
    "data_transfer['test'] = torchvision.datasets.ImageFolder(TEST_DATA_PATH, transform=transform_plain)\n",
    "loaders_transfer['test'] = torch.utils.data.DataLoader(data_transfer['test'],\n",
    "                                          batch_size=1,\n",
    "                                          shuffle=False,\n",
    "                                          num_workers=4)\n",
    "\n",
    "import torch.optim as optim\n",
    "\n",
    "criterion_transfer = nn.CrossEntropyLoss()"
   ]
  },
  {
   "cell_type": "code",
   "execution_count": 5,
   "metadata": {},
   "outputs": [
    {
     "name": "stdout",
     "output_type": "stream",
     "text": [
      "Test Loss: 0.705559\n",
      "\n",
      "\n",
      "Test Accuracy: 63% (127/200)\n",
      "Total testing time: 6.98 seconds\n"
     ]
    }
   ],
   "source": [
    "import numpy as np\n",
    "import time\n",
    "\n",
    "def test(loaders, model, criterion):\n",
    "\n",
    "    # monitor test loss and accuracy\n",
    "    test_loss = 0.\n",
    "    correct = 0.\n",
    "    total = 0.\n",
    "\n",
    "    model.eval()\n",
    "    for batch_idx, (data, target) in enumerate(loaders['test']):\n",
    "        data, target = data.to(device), target.to(device)\n",
    "        output = model(data)\n",
    "        loss = criterion(output, target)\n",
    "        # accumulate test loss \n",
    "        test_loss += loss.item()*data.size(0)\n",
    "        \n",
    "        # convert output probabilities to predicted class\n",
    "        preds = output.data.max(1, keepdim=True)[1]\n",
    "    \n",
    "        # compare predictions to true label\n",
    "        if torch.cuda.is_available():\n",
    "            correct += torch.sum(preds == target.data)\n",
    "        else:\n",
    "            correct += np.sum(np.squeeze(preds.eq(target.data.view_as(preds))).cpu().numpy())\n",
    "        total += data.size(0)\n",
    "        \n",
    "    test_loss = test_loss/len(loaders_transfer['test'].dataset)      \n",
    "    print('Test Loss: {:.6f}\\n'.format(test_loss))\n",
    "\n",
    "    print('\\nTest Accuracy: %2d%% (%2d/%2d)' % (\n",
    "        100. * correct / total, correct, total))\n",
    "\n",
    "# call test function   \n",
    "test_start = time.time()\n",
    "test(loaders_transfer, model_transfer, criterion_transfer)\n",
    "print(\"Total testing time: {:.2f} seconds\".format(time.time() - test_start))"
   ]
  },
  {
   "cell_type": "code",
   "execution_count": null,
   "metadata": {},
   "outputs": [],
   "source": []
  }
 ],
 "metadata": {
  "kernelspec": {
   "display_name": "Python 3",
   "language": "python",
   "name": "python3"
  },
  "language_info": {
   "codemirror_mode": {
    "name": "ipython",
    "version": 3
   },
   "file_extension": ".py",
   "mimetype": "text/x-python",
   "name": "python",
   "nbconvert_exporter": "python",
   "pygments_lexer": "ipython3",
   "version": "3.6.10"
  }
 },
 "nbformat": 4,
 "nbformat_minor": 4
}
